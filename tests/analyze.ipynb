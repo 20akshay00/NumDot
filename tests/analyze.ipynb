{
 "cells": [
  {
   "cell_type": "code",
   "id": "initial_id",
   "metadata": {
    "collapsed": true
   },
   "source": [
    "import pandas as pd\n",
    "import numpy as np\n",
    "import plotly.express as px\n",
    "import plotly.graph_objects as go"
   ],
   "outputs": [],
   "execution_count": null
  },
  {
   "metadata": {},
   "cell_type": "code",
   "source": [
    "df = pd.read_csv(\"gen/benchmark.csv\", index_col=0)\n",
    "fig = px.bar(df, barmode=\"group\")\n",
    "fig.update_layout(\n",
    "\ttitle=\"NumDot Normalized Performance Benchmark (lower is better)\",\n",
    "\theight=800,\n",
    "\tyaxis=go.layout.YAxis(title=\"seconds\"), # , type=\"log\"\n",
    "\txaxis=go.layout.XAxis(title=\"test\", tickangle=90)\n",
    ")\n",
    "fig.show()"
   ],
   "id": "5691259b627b960a",
   "outputs": [],
   "execution_count": null
  },
  {
   "metadata": {},
   "cell_type": "code",
   "outputs": [],
   "execution_count": null,
   "source": "",
   "id": "8cb68d58cfffee2d"
  }
 ],
 "metadata": {
  "kernelspec": {
   "display_name": "Python 3",
   "language": "python",
   "name": "python3"
  },
  "language_info": {
   "codemirror_mode": {
    "name": "ipython",
    "version": 2
   },
   "file_extension": ".py",
   "mimetype": "text/x-python",
   "name": "python",
   "nbconvert_exporter": "python",
   "pygments_lexer": "ipython2",
   "version": "2.7.6"
  }
 },
 "nbformat": 4,
 "nbformat_minor": 5
}
